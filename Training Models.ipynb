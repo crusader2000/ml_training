{
 "cells": [
  {
   "cell_type": "code",
   "execution_count": null,
   "metadata": {},
   "outputs": [],
   "source": [
    "# LINEAR REGRESSION USING NORMAL EQUATION\n",
    "\n",
    "from sklearn.linear_model import LinearRegression\n",
    "lin_reg = LinearRegression()\n",
    "lin_reg.fit(X, y)\n",
    "lin_reg.intercept_, lin_reg.coef_\n",
    "lin_reg.predict(X_new)"
   ]
  },
  {
   "cell_type": "code",
   "execution_count": null,
   "metadata": {},
   "outputs": [],
   "source": [
    "#BATCH GRADIENT DESCENT\n",
    "eta = 0.1 # learning rate\n",
    "n_iterations = 1000\n",
    "m = 100\n",
    "theta = np.random.randn(2,1)\n",
    "# random initialization\n",
    "for iteration in range(n_iterations):\n",
    "gradients = 2/m * X_b.T.dot(X_b.dot(theta) - y)\n",
    "theta = theta - eta * gradients"
   ]
  },
  {
   "cell_type": "code",
   "execution_count": null,
   "metadata": {},
   "outputs": [],
   "source": [
    "# When the cost function is very irregular , this can actually help the algorithm jump out of\n",
    "# local minima, so Stochastic Gradient Descent has a better chance of finding the global minimum than\n",
    "# Batch Gradient Descent does.\n",
    "# Therefore randomness is good to escape from local optima, but bad because it means that the algorithm\n",
    "# can never settle at the minimum. One solution to this dilemma is to gradually reduce the learning rate. The\n",
    "# steps start out large (which helps make quick progress and escape local minima), then get smaller and\n",
    "# smaller, allowing the algorithm to settle at the global minimum. This process is called simulatedannealing, because it resembles the process of annealing in metallurgy where molten metal is slowly\n",
    "# cooled down. The function that determines the learning rate at each iteration is called the learning\n",
    "# schedule. If the learning rate is reduced too quickly, you may get stuck in a local minimum, or even end up\n",
    "# frozen halfway to the minimum. If the learning rate is reduced too slowly, you may jump around the\n",
    "# minimum for a long time and end up with a suboptimal solution if you halt training too early.\n",
    "\n",
    "# This code implements Stochastic Gradient Descent using a simple learning schedule:\n",
    "n_epochs = 50\n",
    "t0, t1 = 5, 50\n",
    "# learning schedule hyperparameters\n",
    "def learning_schedule(t):\n",
    "    return t0 / (t + t1)\n",
    "theta = np.random.randn(2,1)\n",
    "# random initialization\n",
    "for epoch in range(n_epochs):\n",
    "    for i in range(m):\n",
    "        random_index = np.random.randint(m)\n",
    "        xi = X_b[random_index:random_index+1]\n",
    "        yi = y[random_index:random_index+1]\n",
    "        gradients = 2 * xi.T.dot(xi.dot(theta) - yi)\n",
    "        eta = learning_schedule(epoch * m + i)\n",
    "        theta = theta - eta * gradients"
   ]
  },
  {
   "cell_type": "code",
   "execution_count": null,
   "metadata": {},
   "outputs": [],
   "source": [
    "# SGDRegressor using Scikit-Learn\n",
    "\n",
    "from sklearn.linear_model import SGDRegressor\n",
    "sgd_reg = SGDRegressor(n_iter=50, penalty=None, eta0=0.1)\n",
    "sgd_reg.fit(X, y.ravel())\n",
    "sgd_reg.intercept_, sgd_reg.coef_"
   ]
  },
  {
   "cell_type": "code",
   "execution_count": null,
   "metadata": {},
   "outputs": [],
   "source": [
    "# POLYNOMIAL REGRESSION\n",
    "from sklearn.preprocessing import PolynomialFeatures\n",
    "poly_features = PolynomialFeatures(degree=2, include_bias=False)\n",
    "X_poly = poly_features.fit_transform(X)"
   ]
  },
  {
   "cell_type": "code",
   "execution_count": null,
   "metadata": {},
   "outputs": [],
   "source": [
    "# LEARNING CURVVES: \n",
    "\n",
    "\n",
    "# these are plots of the model’s performance on the training\n",
    "# set and the validation set as a function of the training set size. To generate the plots, simply train the model\n",
    "# several times on different sized subsets of the training set. The following code defines a function that plots\n",
    "# the learning curves of a model given some training data:\n",
    "from sklearn.metrics import mean_squared_error\n",
    "from sklearn.model_selection import train_test_split\n",
    "def plot_learning_curves(model, X, y):\n",
    "    X_train, X_val, y_train, y_val = train_test_split(X, y, test_size=0.2)\n",
    "    train_errors, val_errors = [], []\n",
    "    for m in range(1, len(X_train)):\n",
    "        model.fit(X_train[:m], y_train[:m])\n",
    "        y_train_predict = model.predict(X_train[:m])\n",
    "        y_val_predict = model.predict(X_val)\n",
    "        train_errors.append(mean_squared_error(y_train_predict, y_train[:m]))\n",
    "        val_errors.append(mean_squared_error(y_val_predict, y_val))\n",
    "    plt.plot(np.sqrt(train_errors), \"r-+\", linewidth=2, label=\"train\")\n",
    "    plt.plot(np.sqrt(val_errors), \"b-\", linewidth=3, label=\"val\")\n",
    "# Let’s look at the learning curves of the plain Linear Regression model (a straight line; Figure 4-15):\n",
    "lin_reg = LinearRegression()\n",
    "plot_learning_curves(lin_reg, X, y)"
   ]
  },
  {
   "cell_type": "code",
   "execution_count": null,
   "metadata": {},
   "outputs": [],
   "source": [
    "# RIDGE REGRESSION == REGULARIZATION\n",
    "\n",
    "from sklearn.linear_model import Ridge\n",
    "ridge_reg = Ridge(alpha=1, solver=\"cholesky\")\n",
    "ridge_reg.fit(X, y)\n",
    "ridge_reg.predict([[1.5]])\n",
    "\n",
    "\n",
    "# REGULARIZATION IN STOCHASTIC GRADIENT DESCENT\n",
    "# And using Stochastic Gradient Descent: \n",
    "sgd_reg = SGDRegressor(penalty=\"l2\")\n",
    "sgd_reg.fit(X, y.ravel())\n",
    "sgd_reg.predict([[1.5]])\n"
   ]
  },
  {
   "cell_type": "code",
   "execution_count": null,
   "metadata": {},
   "outputs": [],
   "source": [
    "# LASSO REGRESSION\n",
    "from sklearn.linear_model import Lasso\n",
    "lasso_reg = Lasso(alpha=0.1)\n",
    "lasso_reg.fit(X, y)\n",
    "lasso_reg.predict([[1.5]])\n",
    "\n",
    "# ELASTIC NET \n",
    "from sklearn.linear_model import ElasticNet\n",
    "elastic_net = ElasticNet(alpha=0.1, l1_ratio=0.5)\n",
    "elastic_net.fit(X, y)\n",
    "elastic_net.predict([[1.5]])"
   ]
  },
  {
   "cell_type": "code",
   "execution_count": null,
   "metadata": {},
   "outputs": [],
   "source": [
    "# EARLY STOPPING\n",
    "\n",
    "from sklearn.base import clone\n",
    "sgd_reg = SGDRegressor(n_iter=1, warm_start=True, penalty=None,\n",
    "learning_rate=\"constant\", eta0=0.0005)\n",
    "minimum_val_error = float(\"inf\")\n",
    "best_epoch = Nonebest_model = None\n",
    "for epoch in range(1000):\n",
    "    sgd_reg.fit(X_train_poly_scaled, y_train) # continues where it left off\n",
    "    y_val_predict = sgd_reg.predict(X_val_poly_scaled)\n",
    "    val_error = mean_squared_error(y_val_predict, y_val)\n",
    "    if val_error < minimum_val_error:\n",
    "        minimum_val_error = val_error\n",
    "        best_epoch = epoch\n",
    "        best_model = clone(sgd_reg)\n",
    "#     Note that with warm_start=True , when the fit() method is called, it just continues training where it left\n",
    "#     off instead of restarting from scratch."
   ]
  },
  {
   "cell_type": "code",
   "execution_count": null,
   "metadata": {},
   "outputs": [],
   "source": [
    "# Let’s use the iris dataset to illustrate Logistic Regression. This is a famous dataset that contains the sepal\n",
    "# and petal length and width of 150 iris flowers of three different species: Iris-Setosa, Iris-Versicolor, and\n",
    "# Iris-Virginica\n",
    "# Let’s try to build a classifier to detect the Iris-Virginica type based only on the petal width feature. First\n",
    "# let’s load the data:\n",
    "from sklearn import datasets\n",
    "iris = datasets.load_iris()\n",
    "list(iris.keys())\n",
    "# ['data', 'target_names', 'feature_names', 'target', 'DESCR']\n",
    "X = iris[\"data\"][:, 3:] # petal width\n",
    "y = (iris[\"target\"] == 2).astype(np.int) # 1 if Iris-Virginica, else 0\n",
    "# Now let’s train a Logistic Regression model:\n",
    "from sklearn.linear_model import LogisticRegression\n",
    "log_reg = LogisticRegression()\n",
    "log_reg.fit(X, y)\n",
    "\n",
    "X_new = np.linspace(0, 3, 1000).reshape(-1, 1)\n",
    "y_proba = log_reg.predict_proba(X_new)\n",
    "plt.plot(X_new, y_proba[:, 1], \"g-\", label=\"Iris-Virginica\")\n",
    "plt.plot(X_new, y_proba[:, 0], \"b--\", label=\"Not Iris-Virginica\")\n",
    "# + more Matplotlib code to make the image look pretty\n",
    "\n",
    "# , Logistic Regression models can be regularized using l 1 or l 2 penalties.\n",
    "# Scitkit-Learn actually adds an l 2 penalty by default."
   ]
  },
  {
   "cell_type": "code",
   "execution_count": null,
   "metadata": {},
   "outputs": [],
   "source": [
    "# Softmax Regression\n",
    "\n",
    "\n",
    "# The Logistic Regression model can be generalized to support multiple classes directly, without having to\n",
    "# train and combine multiple binary classifiers (as discussed in Chapter 3). This is called Softmax\n",
    "# Regression, or Multinomial Logistic Regression.\n",
    "# Let’s use Softmax Regression to classify the iris flowers into all three classes. Scikit-Learn’s\n",
    "# LogisticRegression uses one-versus-all by default when you train it on more than two classes, but you\n",
    "# can set the multi_class hyperparameter to \"multinomial\" to switch it to Softmax Regression instead.\n",
    "# You must also specify a solver that supports Softmax Regression, such as the \"lbfgs\" solver (see Scikit-\n",
    "# Learn’s documentation for more details). It also applies l 2 regularization by default, which you can\n",
    "# control using the hyperparameter C .\n",
    "X = iris[\"data\"][:, (2, 3)]  # petal length, petal width\n",
    "y = iris[\"target\"]\n",
    "softmax_reg = LogisticRegression(multi_class=\"multinomial\",solver=\"lbfgs\", C=10)\n",
    "softmax_reg.fit(X, y)\n",
    "# So the next time you find an iris with 5 cm long and 2 cm wide petals, you can ask your model to tell you\n",
    "# what type of iris it is, and it will answer Iris-Virginica (class 2) with 94.2% probability (or Iris-\n",
    "# Versicolor with 5.8% probability):\n",
    "softmax_reg.predict([[5, 2]])\n",
    "# array([2])\n",
    "softmax_reg.predict_proba([[5, 2]])\n",
    "# array([[ 6.33134078e-07,\n",
    "# 5.75276067e-02,\n",
    "# 9.42471760e-01]])"
   ]
  }
 ],
 "metadata": {
  "kernelspec": {
   "display_name": "Python 3",
   "language": "python",
   "name": "python3"
  },
  "language_info": {
   "codemirror_mode": {
    "name": "ipython",
    "version": 3
   },
   "file_extension": ".py",
   "mimetype": "text/x-python",
   "name": "python",
   "nbconvert_exporter": "python",
   "pygments_lexer": "ipython3",
   "version": "3.6.8"
  }
 },
 "nbformat": 4,
 "nbformat_minor": 2
}
