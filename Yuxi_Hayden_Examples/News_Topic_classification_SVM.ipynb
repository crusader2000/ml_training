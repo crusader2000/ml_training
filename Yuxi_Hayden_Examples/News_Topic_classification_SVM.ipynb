{
  "nbformat": 4,
  "nbformat_minor": 0,
  "metadata": {
    "colab": {
      "name": "News_Topic_classification_SVM.ipynb",
      "provenance": [],
      "collapsed_sections": [],
      "authorship_tag": "ABX9TyO75LVR3+kn6HEW7rxe8/me",
      "include_colab_link": true
    },
    "kernelspec": {
      "name": "python3",
      "display_name": "Python 3"
    }
  },
  "cells": [
    {
      "cell_type": "markdown",
      "metadata": {
        "id": "view-in-github",
        "colab_type": "text"
      },
      "source": [
        "<a href=\"https://colab.research.google.com/github/crusader2000/ml_training/blob/master/Yuxi%20Hayden%20Examples/News_Topic_classification_SVM.ipynb\" target=\"_parent\"><img src=\"https://colab.research.google.com/assets/colab-badge.svg\" alt=\"Open In Colab\"/></a>"
      ]
    },
    {
      "cell_type": "markdown",
      "metadata": {
        "id": "GrPE-GuwWcoG",
        "colab_type": "text"
      },
      "source": [
        ""
      ]
    },
    {
      "cell_type": "code",
      "metadata": {
        "id": "RdPJB3R4QgM8",
        "colab_type": "code",
        "outputId": "fed89150-870d-41dd-c696-c434cd1ed969",
        "colab": {
          "base_uri": "https://localhost:8080/",
          "height": 86
        }
      },
      "source": [
        "from sklearn.datasets import fetch_20newsgroups\n",
        "import nltk\n",
        "nltk.download('names')\n",
        "nltk.download('wordnet')\n",
        "from nltk.corpus import names\n",
        "from nltk.stem import WordNetLemmatizer\n",
        "from sklearn.feature_extraction.text import TfidfVectorizer"
      ],
      "execution_count": 0,
      "outputs": [
        {
          "output_type": "stream",
          "text": [
            "[nltk_data] Downloading package names to /root/nltk_data...\n",
            "[nltk_data]   Unzipping corpora/names.zip.\n",
            "[nltk_data] Downloading package wordnet to /root/nltk_data...\n",
            "[nltk_data]   Unzipping corpora/wordnet.zip.\n"
          ],
          "name": "stdout"
        }
      ]
    },
    {
      "cell_type": "code",
      "metadata": {
        "id": "rz5m2vteQWv1",
        "colab_type": "code",
        "colab": {}
      },
      "source": [
        "all_names = set(names.words())\n",
        "lemmatizer = WordNetLemmatizer()\n",
        "\n",
        "def letters_only(astr):\n",
        "  return astr.isalpha()\n",
        "\n",
        "def clean_text(docs):\n",
        "  cleaned_docs = []\n",
        "  for doc in docs:\n",
        "    cleaned_docs.append(' '.join([lemmatizer.lemmatize(word.lower()) for word in doc.split() if letters_only(word) and word not in all_names]))\n",
        "  return cleaned_docs"
      ],
      "execution_count": 0,
      "outputs": []
    },
    {
      "cell_type": "code",
      "metadata": {
        "id": "kEHyoaEzWvBa",
        "colab_type": "code",
        "outputId": "83810c2a-a3e5-4cfb-d937-db1017607243",
        "colab": {
          "base_uri": "https://localhost:8080/",
          "height": 52
        }
      },
      "source": [
        "categories = ['comp.graphics','sci.space']\n",
        "data_train = fetch_20newsgroups(subset='train',categories=categories,random_state=42)\n",
        "data_test = fetch_20newsgroups(subset='test',categories=categories,random_state=42)"
      ],
      "execution_count": 0,
      "outputs": [
        {
          "output_type": "stream",
          "text": [
            "Downloading 20news dataset. This may take a few minutes.\n",
            "Downloading dataset from https://ndownloader.figshare.com/files/5975967 (14 MB)\n"
          ],
          "name": "stderr"
        }
      ]
    },
    {
      "cell_type": "code",
      "metadata": {
        "id": "3q2pfF01QYtu",
        "colab_type": "code",
        "outputId": "17b092da-9508-4cd9-b7ab-5901068f37c5",
        "colab": {
          "base_uri": "https://localhost:8080/",
          "height": 52
        }
      },
      "source": [
        "cleaned_train = clean_text(data_train.data)\n",
        "label_train = data_train.target\n",
        "cleaned_test = clean_text(data_test.data)\n",
        "label_test = data_test.target\n",
        "print(len(label_train))\n",
        "print(len(label_test))"
      ],
      "execution_count": 0,
      "outputs": [
        {
          "output_type": "stream",
          "text": [
            "1177\n",
            "783\n"
          ],
          "name": "stdout"
        }
      ]
    },
    {
      "cell_type": "code",
      "metadata": {
        "id": "bOIPjVp0Q71p",
        "colab_type": "code",
        "outputId": "03d403a1-bdc7-403c-b666-7dac09692cb2",
        "colab": {
          "base_uri": "https://localhost:8080/",
          "height": 52
        }
      },
      "source": [
        "from collections import Counter\n",
        "print(Counter(label_train))\n",
        "print(Counter(label_test))"
      ],
      "execution_count": 0,
      "outputs": [
        {
          "output_type": "stream",
          "text": [
            "Counter({1: 593, 0: 584})\n",
            "Counter({1: 394, 0: 389})\n"
          ],
          "name": "stdout"
        }
      ]
    },
    {
      "cell_type": "code",
      "metadata": {
        "id": "s1-s8-4SVFtj",
        "colab_type": "code",
        "colab": {}
      },
      "source": [
        "tfidf_vectorizer = TfidfVectorizer(sublinear_tf = True, max_df = 0.5, stop_words = 'english',max_features=8000)\n",
        "term_docs_train = tfidf_vectorizer.fit_transform(cleaned_train)\n",
        "term_docs_test = tfidf_vectorizer.fit_transform(cleaned_test)"
      ],
      "execution_count": 0,
      "outputs": []
    },
    {
      "cell_type": "code",
      "metadata": {
        "id": "Xk3xN7HsV--I",
        "colab_type": "code",
        "outputId": "b8386d1f-dc68-4100-a575-50c5253eb3fa",
        "colab": {
          "base_uri": "https://localhost:8080/",
          "height": 86
        }
      },
      "source": [
        "# Now we can apply our SVM algorithm with features ready. Initialize an SVC\n",
        "# model with the kernel parameter set to linear (we will explain this shortly)\n",
        "# and penalty C set to the default value 1 :\n",
        "from sklearn.svm import SVC\n",
        "svm = SVC(kernel='linear', C=1.0, random_state=42)\n",
        "# Then fit our model on the training set:\n",
        "svm.fit(term_docs_train,label_train)"
      ],
      "execution_count": 0,
      "outputs": [
        {
          "output_type": "execute_result",
          "data": {
            "text/plain": [
              "SVC(C=1.0, break_ties=False, cache_size=200, class_weight=None, coef0=0.0,\n",
              "    decision_function_shape='ovr', degree=3, gamma='scale', kernel='linear',\n",
              "    max_iter=-1, probability=False, random_state=42, shrinking=True, tol=0.001,\n",
              "    verbose=False)"
            ]
          },
          "metadata": {
            "tags": []
          },
          "execution_count": 7
        }
      ]
    },
    {
      "cell_type": "code",
      "metadata": {
        "id": "EkJT2O3LW4-c",
        "colab_type": "code",
        "outputId": "6230afb3-f917-4ade-f717-179baf73b68d",
        "colab": {
          "base_uri": "https://localhost:8080/",
          "height": 34
        }
      },
      "source": [
        "accuracy = svm.score(term_docs_test,label_test)\n",
        "print('The accuracy on testing set is:{0:.1f}%'.format(accuracy*100))"
      ],
      "execution_count": 0,
      "outputs": [
        {
          "output_type": "stream",
          "text": [
            "The accuracy on testing set is:54.3%\n"
          ],
          "name": "stdout"
        }
      ]
    },
    {
      "cell_type": "code",
      "metadata": {
        "id": "y2QWCJDCXbW1",
        "colab_type": "code",
        "outputId": "a81fedc3-6f14-4f49-f9a3-4ddf454deed1",
        "colab": {
          "base_uri": "https://localhost:8080/",
          "height": 243
        }
      },
      "source": [
        "# MULTICLASS SVM CLASSIFICATION\n",
        "categories = [\n",
        "  'alt.atheism',\n",
        "  'talk.religion.misc',\n",
        "  'comp.graphics',\n",
        "  'sci.space',\n",
        "  'rec.sport.hockey'\n",
        "  ]\n",
        "\n",
        "data_train = fetch_20newsgroups(subset='train',categories=categories,random_state=42)\n",
        "data_test = fetch_20newsgroups(subset='test',categories=categories,random_state=42)\n",
        "\n",
        "cleaned_train = clean_text(data_train.data)\n",
        "label_train = data_train.target\n",
        "cleaned_test = clean_text(data_test.data)\n",
        "label_test = data_test.target\n",
        "\n",
        "term_docs_train = tfidf_vectorizer.fit_transform(cleaned_train)\n",
        "term_docs_test = tfidf_vectorizer.fit_transform(cleaned_test)\n",
        "\n",
        "# In SVC, multiclass support is implicitly handled according to the one-vs-one\n",
        "# scheme:\n",
        "from sklearn.svm import SVC\n",
        "svm = SVC(kernel='linear',C=1.0,random_state=42)\n",
        "svm.fit(term_docs_train,label_train)\n",
        "accuracy = svm.score(term_docs_test,label_test)\n",
        "print('The accuracy on testing set is:{0:.1f}%'.format(accuracy*100))\n",
        "\n",
        "# We check how it performs for individual classes as follows:\n",
        "from sklearn.metrics import classification_report\n",
        "prediction = svm.predict(term_docs_test)\n",
        "report = classification_report(label_test,prediction)\n",
        "print(report)"
      ],
      "execution_count": 0,
      "outputs": [
        {
          "output_type": "stream",
          "text": [
            "The accuracy on testing set is:20.2%\n",
            "              precision    recall  f1-score   support\n",
            "\n",
            "           0       0.13      0.06      0.09       319\n",
            "           1       0.21      0.37      0.27       389\n",
            "           2       0.22      0.10      0.13       399\n",
            "           3       0.24      0.25      0.25       394\n",
            "           4       0.16      0.21      0.18       251\n",
            "\n",
            "    accuracy                           0.20      1752\n",
            "   macro avg       0.19      0.20      0.18      1752\n",
            "weighted avg       0.20      0.20      0.19      1752\n",
            "\n"
          ],
          "name": "stdout"
        }
      ]
    },
    {
      "cell_type": "markdown",
      "metadata": {
        "id": "u_163x7Pf7YO",
        "colab_type": "text"
      },
      "source": [
        "#The Kernels of SVM"
      ]
    },
    {
      "cell_type": "code",
      "metadata": {
        "id": "S1ENbEZgf6LA",
        "colab_type": "code",
        "colab": {}
      },
      "source": [
        "# The most popular kernel function is the radial basis function (RBF) kernel\n",
        "# (also called Gaussian kernel)\n",
        "# let's apply RBF kernel with different values to a dataset:\n",
        "\n",
        "import numpy as np\n",
        "import matplotlib.pyplot as plt\n",
        "X = np.c_[\n",
        "# negative class\n",
        "(.3, -.8),\n",
        "(-1.5, -1),\n",
        "(-1.3, -.8),\n",
        "(-1.1, -1.3),\n",
        "(-1.2, -.3),\n",
        "(-1.3, -.5),\n",
        "(-.6, 1.1),\n",
        "(-1.4, 2.2),\n",
        "(1, 1),\n",
        "# positive class...\n",
        "(1.3, .8),\n",
        "(1.2, .5),\n",
        "(.2, -2),\n",
        "(.5, -2.4),\n",
        "(.2, -2.3),\n",
        "(0, -2.7),\n",
        "(1.3, 2.1)].T\n",
        "Y = [-1] * 8 + [1] * 8\n",
        "gamma_option = [1, 2, 4]"
      ],
      "execution_count": 0,
      "outputs": []
    },
    {
      "cell_type": "code",
      "metadata": {
        "id": "Zhxfs5M6FDdh",
        "colab_type": "code",
        "outputId": "821df658-a731-4004-d07a-8e65cbd3ba29",
        "colab": {
          "base_uri": "https://localhost:8080/",
          "height": 281
        }
      },
      "source": [
        "# We will visualize the dataset with corresponding decision boundary trained\n",
        "# under each of the preceding three gamma\n",
        "\n",
        "plt.figure(1,figsize=(4*len(gamma_option),4))\n",
        "\n",
        "for i,gamma in enumerate(gamma_option,1):\n",
        "  svm=SVC(kernel='rbf',gamma=gamma)\n",
        "  svm.fit(X,Y)\n",
        "  plt.subplot(1,len(gamma_option),i)\n",
        "  plt.scatter(X[:,0],X[:,1],c=Y,zorder=10,cmap=plt.cm.Paired)\n",
        "  plt.axis('tight')\n",
        "  XX,YY = np.mgrid[-3:3:200j,-3:3:200j]\n",
        "  Z = svm.decision_function(np.c_[XX.ravel(),YY.ravel()])\n",
        "  Z=Z.reshape(XX.shape)\n",
        "  plt.pcolormesh(XX,YY,Z>0,cmap=plt.cm.Paired)\n",
        "  plt.contour(XX,YY,Z,colors=['k','k','k'],linestyles=['--','-','--'],levels=[-.5,0,.5])\n",
        "  plt.title('gamma = %d'%gamma)\n",
        "\n",
        "plt.show()"
      ],
      "execution_count": 0,
      "outputs": [
        {
          "output_type": "display_data",
          "data": {
            "image/png": "[encoded data removed]",
            "text/plain": [
              "<Figure size 864x288 with 3 Axes>"
            ]
          },
          "metadata": {
            "tags": [],
            "needs_background": "light"
          }
        }
      ]
    },
    {
      "cell_type": "code",
      "metadata": {
        "id": "nxGiJNlOZC_T",
        "colab_type": "code",
        "outputId": "730a9f02-65c6-4594-940a-63a311e97c92",
        "colab": {
          "base_uri": "https://localhost:8080/",
          "height": 34
        }
      },
      "source": [
        "# It is finally time to build our state-of-the-art, SVM-based news topic classifier\n",
        "# with all we just learned.\n",
        "# Load and clean the news dataset with the whole 20 groups:\n",
        "categories = None\n",
        "data_train = fetch_20newsgroups(subset='train',categories=categories, random_state=42)\n",
        "data_test = fetch_20newsgroups(subset='test',categories=categories, random_state=42)\n",
        "\n",
        "cleaned_train = clean_text(data_train.data)\n",
        "label_train = data_train.target\n",
        "cleaned_test = clean_text(data_test.data)\n",
        "label_test = data_test.target\n",
        "\n",
        "term_docs_train =tfidf_vectorizer.fit_transform(cleaned_train)\n",
        "term_docs_test = tfidf_vectorizer.transform(cleaned_test)\n",
        "\n",
        "svc_libsvm = SVC(kernel='linear')\n",
        "parameters = {'C': (0.1, 1, 10, 100)} \n",
        "\n",
        "from sklearn.model_selection import GridSearchCV\n",
        "grid_search = GridSearchCV(svc_libsvm, parameters,n_jobs=-1, cv=3)\n",
        "\n",
        "import timeit\n",
        "start_time = timeit.default_timer()\n",
        "grid_search.fit(term_docs_train, label_train)\n",
        "print(\"--- %0.3fs seconds ---\" %(timeit.default_timer() - start_time))"
      ],
      "execution_count": 0,
      "outputs": [
        {
          "output_type": "stream",
          "text": [
            "--- 406.580s seconds ---\n"
          ],
          "name": "stdout"
        }
      ]
    },
    {
      "cell_type": "code",
      "metadata": {
        "id": "mTtTsVUWY-KP",
        "colab_type": "code",
        "outputId": "c74d467a-b3a1-4ad2-ad37-4fa9ee682d0c",
        "colab": {
          "base_uri": "https://localhost:8080/",
          "height": 52
        }
      },
      "source": [
        "print(grid_search.best_params_)\n",
        "print(grid_search.best_score_)"
      ],
      "execution_count": 0,
      "outputs": [
        {
          "output_type": "stream",
          "text": [
            "{'C': 10}\n",
            "0.8666260504741258\n"
          ],
          "name": "stdout"
        }
      ]
    },
    {
      "cell_type": "code",
      "metadata": {
        "id": "zxAYhyW_azGi",
        "colab_type": "code",
        "outputId": "f2431923-9419-4415-b32b-ff135c96165e",
        "colab": {
          "base_uri": "https://localhost:8080/",
          "height": 34
        }
      },
      "source": [
        "svc_libsvm_best = grid_search.best_estimator_\n",
        "accuracy = svc_libsvm_best.score(term_docs_test, label_test)\n",
        "print('The accuracy on testing set is:{0:.1f}%'.format(accuracy*100))"
      ],
      "execution_count": 0,
      "outputs": [
        {
          "output_type": "stream",
          "text": [
            "The accuracy on testing set is:76.2%\n"
          ],
          "name": "stdout"
        }
      ]
    },
    {
      "cell_type": "code",
      "metadata": {
        "id": "jl2SItPWbGgx",
        "colab_type": "code",
        "outputId": "779c3f22-78f8-4e70-8962-04c8dbc19787",
        "colab": {
          "base_uri": "https://localhost:8080/",
          "height": 86
        }
      },
      "source": [
        "# How will anotherSVM classifier, LinearSVC, from scikit-learn perform? The LinearSVC is\n",
        "# similar to the SVC with the linear kernel, but it is implemented based on the\n",
        "# liblinear library instead of libsvm. We repeat the same preceding process\n",
        "# for LinearSVC:\n",
        "\n",
        "from sklearn.svm import LinearSVC\n",
        "svc_linear = LinearSVC()\n",
        "grid_search = GridSearchCV(svc_linear,parameters,n_jobs=-1,cv=3)\n",
        "\n",
        "import timeit\n",
        "start_time = timeit.default_timer()\n",
        "grid_search.fit(term_docs_train, label_train)\n",
        "print(\"--- %0.3fs seconds ---\" %(timeit.default_timer() - start_time))\n",
        "\n",
        "print(grid_search.best_params_)\n",
        "svc_linear_best = grid_search.best_estimator_\n",
        "accuracy = svc_linear_best.score(term_docs_test, label_test)\n",
        "print(grid_search.best_score_)\n",
        "\n",
        "svc_linear_best = grid_search.best_estimator_\n",
        "accuracy = svc_linear_best.score(term_docs_test, label_test)\n",
        "print('The accuracy on testing set is:{0:.1f}%'.format(accuracy*100))"
      ],
      "execution_count": 0,
      "outputs": [
        {
          "output_type": "stream",
          "text": [
            "--- 18.550s seconds ---\n",
            "{'C': 1}\n",
            "0.8706917472827317\n",
            "The accuracy on testing set is:77.9%\n"
          ],
          "name": "stdout"
        }
      ]
    },
    {
      "cell_type": "code",
      "metadata": {
        "id": "Sic23K6EN2YX",
        "colab_type": "code",
        "outputId": "a84c4648-0253-48b9-c6e0-6571d3431038",
        "colab": {
          "base_uri": "https://localhost:8080/",
          "height": 86
        }
      },
      "source": [
        "# We can also tweak the feature extractor, the TfidfVectorizer model, to\n",
        "# further improve the performance. Feature extraction and classification as two\n",
        "# consecutive steps should be cross-validated collectively. We utilize the\n",
        "# pipeline API from scikit-learn to facilitate this.\n",
        "\n",
        "\n",
        "# The tfidf feature extractor and linear SVM classifier are first assembled in\n",
        "# the pipeline:\n",
        "\n",
        "from sklearn.pipeline import Pipeline\n",
        "pipeline = Pipeline([('tfidf', TfidfVectorizer(stop_words='english')),('svc', LinearSVC()),])\n",
        "\n",
        "parameters_pipeline = {\n",
        "    'tfidf__max_df': (0.25, 0.5),\n",
        "    'tfidf__max_features': (40000, 50000),\n",
        "    'tfidf__sublinear_tf': (True, False),\n",
        "    'tfidf__smooth_idf': (True, False),\n",
        "    'svc__C': (0.1, 1, 10, 100),\n",
        "     }\n",
        "\n",
        "grid_search = GridSearchCV(pipeline, parameters_pipeline,n_jobs=-1, cv=3)\n",
        "start_time = timeit.default_timer()\n",
        "grid_search.fit(cleaned_train, label_train)\n",
        "print(\"--- %0.3fs seconds ---\" %(timeit.default_timer() - start_time))\n",
        "print(grid_search.best_params_)\n",
        "print(grid_search.best_score_)\n",
        "pipeline_best = grid_search.best_estimator_\n",
        "\n",
        "# And finally is applied to the testing set:\n",
        "accuracy = pipeline_best.score(cleaned_test, label_test)\n",
        "print('The accuracy on testing set is: {0:.1f}%'.format(accuracy*100))"
      ],
      "execution_count": 0,
      "outputs": [
        {
          "output_type": "stream",
          "text": [
            "--- 662.937s seconds ---\n",
            "{'svc__C': 1, 'tfidf__max_df': 0.5, 'tfidf__max_features': 40000, 'tfidf__smooth_idf': False, 'tfidf__sublinear_tf': True}\n",
            "0.888899176512086\n",
            "The accuracy on testing set is: 80.6%\n"
          ],
          "name": "stdout"
        }
      ]
    },
    {
      "cell_type": "markdown",
      "metadata": {
        "id": "-wCvwIlqN9J9",
        "colab_type": "text"
      },
      "source": [
        "#Fetal state classification using RBF"
      ]
    },
    {
      "cell_type": "code",
      "metadata": {
        "id": "Kd71U4H1PUvO",
        "colab_type": "code",
        "outputId": "2d19ad90-b10d-49a9-d4c8-d9f781cd4704",
        "colab": {
          "base_uri": "https://localhost:8080/",
          "height": 208
        }
      },
      "source": [
        "!wget https://archive.ics.uci.edu/ml/machine-learning-databases/00193/CTG.xls"
      ],
      "execution_count": 0,
      "outputs": [
        {
          "output_type": "stream",
          "text": [
            "--2020-05-03 11:08:03--  https://archive.ics.uci.edu/ml/machine-learning-databases/00193/CTG.xls\n",
            "Resolving archive.ics.uci.edu (archive.ics.uci.edu)... 128.195.10.252\n",
            "Connecting to archive.ics.uci.edu (archive.ics.uci.edu)|128.195.10.252|:443... connected.\n",
            "HTTP request sent, awaiting response... 200 OK\n",
            "Length: 1743872 (1.7M) [application/x-httpd-php]\n",
            "Saving to: ‘CTG.xls’\n",
            "\n",
            "\rCTG.xls               0%[                    ]       0  --.-KB/s               \rCTG.xls             100%[===================>]   1.66M  8.54MB/s    in 0.2s    \n",
            "\n",
            "2020-05-03 11:08:03 (8.54 MB/s) - ‘CTG.xls’ saved [1743872/1743872]\n",
            "\n"
          ],
          "name": "stdout"
        }
      ]
    },
    {
      "cell_type": "code",
      "metadata": {
        "id": "HVT9d-UNOICx",
        "colab_type": "code",
        "outputId": "a5a6f1c9-ff15-4487-abec-bdbfe1e33108",
        "colab": {
          "base_uri": "https://localhost:8080/",
          "height": 34
        }
      },
      "source": [
        "import pandas as pd\n",
        "df = pd.read_excel('CTG.xls', \"Raw Data\")\n",
        "X = df.iloc[1:2126, 3:-2].values\n",
        "Y = df.iloc[1:2126, -1].values\n",
        "Counter(Y)"
      ],
      "execution_count": 0,
      "outputs": [
        {
          "output_type": "execute_result",
          "data": {
            "text/plain": [
              "Counter({1.0: 1654, 2.0: 295, 3.0: 176})"
            ]
          },
          "metadata": {
            "tags": []
          },
          "execution_count": 21
        }
      ]
    },
    {
      "cell_type": "code",
      "metadata": {
        "id": "qeT6DS4EOkMh",
        "colab_type": "code",
        "colab": {}
      },
      "source": [
        "from sklearn.model_selection import train_test_split\n",
        "X_train, X_test, Y_train, Y_test = train_test_split(X, Y,test_size=0.2, random_state=42)"
      ],
      "execution_count": 0,
      "outputs": []
    },
    {
      "cell_type": "code",
      "metadata": {
        "id": "nyAVKfKzPYYW",
        "colab_type": "code",
        "outputId": "481a187b-cecd-44e4-85e4-4bbf3ef73450",
        "colab": {
          "base_uri": "https://localhost:8080/",
          "height": 69
        }
      },
      "source": [
        "svc = SVC(kernel='rbf')\n",
        "parameters = {'C': (100, 1e3, 1e4, 1e5),'gamma': (1e-08, 1e-7, 1e-6, 1e-5)}\n",
        "grid_search = GridSearchCV(svc, parameters, n_jobs=-1, cv=3)\n",
        "start_time = timeit.default_timer()\n",
        "grid_search.fit(X_train, Y_train)\n",
        "print(\"--- %0.3fs seconds ---\" %(timeit.default_timer() - start_time))\n",
        "print(grid_search.best_params_)\n",
        "print(grid_search.best_score_)\n",
        "svc_best = grid_search.best_estimator_"
      ],
      "execution_count": 0,
      "outputs": [
        {
          "output_type": "stream",
          "text": [
            "--- 11.522s seconds ---\n",
            "{'C': 100000.0, 'gamma': 1e-07}\n",
            "0.9447061902892292\n"
          ],
          "name": "stdout"
        }
      ]
    },
    {
      "cell_type": "code",
      "metadata": {
        "id": "Fm9D-I9BPvdO",
        "colab_type": "code",
        "outputId": "a31c9fb4-ecfd-44ba-9553-fb64eebb14e6",
        "colab": {
          "base_uri": "https://localhost:8080/",
          "height": 208
        }
      },
      "source": [
        "accuracy = svc_best.score(X_test, Y_test)\n",
        "print('The accuracy on testing set is: {0:.1f}%'.format(accuracy*100))\n",
        "\n",
        "# Also check the performance for individual classes since the data is not quite\n",
        "# balanced:\n",
        "prediction = svc_best.predict(X_test)\n",
        "report = classification_report(Y_test, prediction)\n",
        "print(report)"
      ],
      "execution_count": 0,
      "outputs": [
        {
          "output_type": "stream",
          "text": [
            "The accuracy on testing set is: 95.5%\n",
            "              precision    recall  f1-score   support\n",
            "\n",
            "         1.0       0.96      0.98      0.97       324\n",
            "         2.0       0.89      0.91      0.90        65\n",
            "         3.0       1.00      0.78      0.88        36\n",
            "\n",
            "    accuracy                           0.96       425\n",
            "   macro avg       0.95      0.89      0.92       425\n",
            "weighted avg       0.96      0.96      0.95       425\n",
            "\n"
          ],
          "name": "stdout"
        }
      ]
    },
    {
      "cell_type": "code",
      "metadata": {
        "id": "HhN2aZlGQAl3",
        "colab_type": "code",
        "colab": {}
      },
      "source": [
        ""
      ],
      "execution_count": 0,
      "outputs": []
    }
  ]
}