{
  "nbformat": 4,
  "nbformat_minor": 0,
  "metadata": {
    "colab": {
      "name": "Tensorflow Part 3",
      "provenance": [],
      "collapsed_sections": [],
      "authorship_tag": "ABX9TyMjHqgN2SzndWHViAqkX1PS",
      "include_colab_link": true
    },
    "kernelspec": {
      "name": "python3",
      "display_name": "Python 3"
    }
  },
  "cells": [
    {
      "cell_type": "markdown",
      "metadata": {
        "id": "view-in-github",
        "colab_type": "text"
      },
      "source": [
        "<a href=\"https://colab.research.google.com/github/crusader2000/ml_training/blob/master/tensorflow/Tensorflow_Part_3.ipynb\" target=\"_parent\"><img src=\"https://colab.research.google.com/assets/colab-badge.svg\" alt=\"Open In Colab\"/></a>"
      ]
    },
    {
      "cell_type": "markdown",
      "metadata": {
        "id": "sxnZQBZLoql5",
        "colab_type": "text"
      },
      "source": [
        "#Audiobooks fromm 365 data science\n",
        "\n",
        "##Loading the csv file"
      ]
    },
    {
      "cell_type": "code",
      "metadata": {
        "id": "dQyE4oEinvuN",
        "colab_type": "code",
        "colab": {}
      },
      "source": [
        "import numpy as np\n",
        "from sklearn import preprocessing\n",
        "\n",
        "raw_csv_data = np.loadtxt('../Audiobooks_data.csv',delimiter=',')\n",
        "\n",
        "unscaled_inputs_all = raw_csv_data[:,1:-1]\n",
        "targets_all = raw_csv_data[:,-1]"
      ],
      "execution_count": 0,
      "outputs": []
    },
    {
      "cell_type": "markdown",
      "metadata": {
        "id": "Iv3WCCWVopxA",
        "colab_type": "text"
      },
      "source": [
        "##Balance the dataset"
      ]
    },
    {
      "cell_type": "code",
      "metadata": {
        "id": "lf3fsp-nod6U",
        "colab_type": "code",
        "colab": {}
      },
      "source": [
        "num_one_targets = int(sum(targets_all))\n",
        "\n",
        "zero_targets_counter = 0\n",
        "\n",
        "indices_to_remove = []\n",
        "\n",
        "for i in range(targets_all.shape[0]):\n",
        "  if targets_all[i]==0:\n",
        "    zero_targets_counter += 1\n",
        "    if zero_targets_counter > num_one_targets:\n",
        "      indices_to_remove.append(i)\n",
        "\n",
        "unscaled_inputs_equal_priors = np.delete(unscaled_inputs_all,indices_to_remove,axis=0)\n",
        "targets_equal_priors = np.delete(targets_all,indices_to_remove,axis=0)"
      ],
      "execution_count": 0,
      "outputs": []
    },
    {
      "cell_type": "markdown",
      "metadata": {
        "id": "4WSwud6dqVS7",
        "colab_type": "text"
      },
      "source": [
        "##Standardize the inputs"
      ]
    },
    {
      "cell_type": "code",
      "metadata": {
        "id": "W8NOp_FvqOBb",
        "colab_type": "code",
        "colab": {}
      },
      "source": [
        "scaled_inputs = preprocessing.scale(unscaled_inputs_equal_priors)"
      ],
      "execution_count": 0,
      "outputs": []
    },
    {
      "cell_type": "markdown",
      "metadata": {
        "id": "i52tS5aJqbVF",
        "colab_type": "text"
      },
      "source": [
        "##Shuffle the data"
      ]
    },
    {
      "cell_type": "code",
      "metadata": {
        "id": "gbK7ZphLqsz1",
        "colab_type": "code",
        "colab": {}
      },
      "source": [
        "shuffled_indices = np.arange(scaled_inputs.shape[0])\n",
        "np.random.shuffle(shuffled_indices)\n",
        "\n",
        "shuffled_inputs = scaled_inputs[shuffled_indices]\n",
        "shuffled_targets = targets_equal_priors[shuffled_indices]"
      ],
      "execution_count": 0,
      "outputs": []
    },
    {
      "cell_type": "markdown",
      "metadata": {
        "id": "h90GcoNfqr4S",
        "colab_type": "text"
      },
      "source": [
        "##Split the dataset into train, validation and test"
      ]
    },
    {
      "cell_type": "code",
      "metadata": {
        "id": "IdTYYtN5q0qC",
        "colab_type": "code",
        "colab": {}
      },
      "source": [
        "samples_count = shuffled_inputs.shape[0]\n",
        "\n",
        "train_samples_count = int(0.8*samples_count)\n",
        "validation_samples_count = int(0.1*samples_count)\n",
        "test_samples_count = samples_count - train_samples_count - validation_samples_count\n",
        "\n",
        "train_inputs = shuffled_inputs[:train_samples_count]\n",
        "train_targets = shuffled_targets[:train_samples_count]\n",
        "\n",
        "validation_inputs = shuffled_inputs[train_samples_count:train_samples_count+validation_samples_count]\n",
        "validation_targets = shuffled_targets[train_samples_count:train_samples_count+validation_samples_count]\n",
        "\n",
        "test_inputs = shuffled_inputs[train_samples_count+validation_samples_count:]\n",
        "test_targets = shuffled_targets[train_samples_count+validation_samples_count:]"
      ],
      "execution_count": 0,
      "outputs": []
    },
    {
      "cell_type": "markdown",
      "metadata": {
        "id": "ZT1uPx_jq1hJ",
        "colab_type": "text"
      },
      "source": [
        "##Save the three datasets in *.npz"
      ]
    },
    {
      "cell_type": "code",
      "metadata": {
        "id": "w_OXevhjq5r8",
        "colab_type": "code",
        "colab": {}
      },
      "source": [
        "np.savez('Audiobooks_data_train',inputs=train_inputs,targets=train_targets)\n",
        "np.savez('Audiobooks_data_validation',inputs=validation_inputs,targets=validation_targets)\n",
        "np.savez('Audiobooks_data_test',inputs=test_inputs,targets=test_targets)"
      ],
      "execution_count": 0,
      "outputs": []
    },
    {
      "cell_type": "markdown",
      "metadata": {
        "id": "FYsF0Q7Qwu_b",
        "colab_type": "text"
      },
      "source": [
        "So that it is easy to reuse we are going to load the data again"
      ]
    },
    {
      "cell_type": "markdown",
      "metadata": {
        "id": "dYC5bgs_xDC4",
        "colab_type": "text"
      },
      "source": [
        "##Import the relevant libraries"
      ]
    },
    {
      "cell_type": "code",
      "metadata": {
        "id": "Ud5sLRC0wuBF",
        "colab_type": "code",
        "colab": {}
      },
      "source": [
        "import numpy as np\n",
        "import tensorflow as tf"
      ],
      "execution_count": 0,
      "outputs": []
    },
    {
      "cell_type": "markdown",
      "metadata": {
        "id": "wI-zvutDxHwS",
        "colab_type": "text"
      },
      "source": [
        "##Data"
      ]
    },
    {
      "cell_type": "code",
      "metadata": {
        "id": "RQB4HuH0xJY-",
        "colab_type": "code",
        "colab": {}
      },
      "source": [
        "npz=np.load('Audiobooks_data_train.npz')\n",
        "train_inputs = npz['inputs'].astype(np.float)\n",
        "train_targets = npz['targets'].astype(np.int)\n",
        "\n",
        "npz=np.load('Audiobooks_data_validation.npz')\n",
        "validation_inputs = npz['inputs'].astype(np.float)\n",
        "validation_targets = npz['targets'].astype(np.int)\n",
        "\n",
        "npz=np.load('Audiobooks_data_test.npz')\n",
        "test_inputs = npz['inputs'].astype(np.float)\n",
        "test_targets = npz['targets'].astype(np.int)"
      ],
      "execution_count": 0,
      "outputs": []
    },
    {
      "cell_type": "markdown",
      "metadata": {
        "id": "8tbacyJbylAW",
        "colab_type": "text"
      },
      "source": [
        "##Model"
      ]
    },
    {
      "cell_type": "code",
      "metadata": {
        "id": "v2ls21uZx2q0",
        "colab_type": "code",
        "colab": {
          "base_uri": "https://localhost:8080/",
          "height": 590
        },
        "outputId": "3ee9a7c3-257c-4fbd-9a11-36a25ce2c245"
      },
      "source": [
        "input_size = 10\n",
        "output_size = 2\n",
        "hidden_layer_size = 50\n",
        "\n",
        "model = tf.keras.Sequential([\n",
        "                             tf.keras.layers.Dense(hidden_layer_size,activation='relu'),\n",
        "                             tf.keras.layers.Dense(hidden_layer_size,activation='relu'),                             \n",
        "                            #  tf.keras.layers.Dense(hidden_layer_size,activation='relu'),\n",
        "                             tf.keras.layers.Dense(output_size,activation='softmax')\n",
        "                             ])\n",
        "\n",
        "model.compile(optimizer='adam',loss='sparse_categorical_crossentropy',metrics=['accuracy'])\n",
        "\n",
        "batch_size = 100\n",
        "\n",
        "max_epochs = 100\n",
        "\n",
        "#We are using callbacks for early stopping\n",
        "early_stopping = tf.keras.callbacks.EarlyStopping(patience=2)\n",
        "\n",
        "model.fit(train_inputs,train_targets,batch_size=batch_size,epochs=max_epochs,validation_data=(validation_inputs,validation_targets),verbose=2,callbacks=[early_stopping])"
      ],
      "execution_count": 47,
      "outputs": [
        {
          "output_type": "stream",
          "text": [
            "Epoch 1/100\n",
            "36/36 - 0s - loss: 0.5918 - accuracy: 0.7348 - val_loss: 0.4417 - val_accuracy: 0.8949\n",
            "Epoch 2/100\n",
            "36/36 - 0s - loss: 0.3916 - accuracy: 0.8662 - val_loss: 0.3075 - val_accuracy: 0.9128\n",
            "Epoch 3/100\n",
            "36/36 - 0s - loss: 0.3190 - accuracy: 0.8807 - val_loss: 0.2726 - val_accuracy: 0.9217\n",
            "Epoch 4/100\n",
            "36/36 - 0s - loss: 0.2987 - accuracy: 0.8871 - val_loss: 0.2523 - val_accuracy: 0.9195\n",
            "Epoch 5/100\n",
            "36/36 - 0s - loss: 0.2866 - accuracy: 0.8905 - val_loss: 0.2409 - val_accuracy: 0.9217\n",
            "Epoch 6/100\n",
            "36/36 - 0s - loss: 0.2770 - accuracy: 0.8944 - val_loss: 0.2337 - val_accuracy: 0.9239\n",
            "Epoch 7/100\n",
            "36/36 - 0s - loss: 0.2721 - accuracy: 0.8961 - val_loss: 0.2260 - val_accuracy: 0.9262\n",
            "Epoch 8/100\n",
            "36/36 - 0s - loss: 0.2650 - accuracy: 0.8947 - val_loss: 0.2337 - val_accuracy: 0.9284\n",
            "Epoch 9/100\n",
            "36/36 - 0s - loss: 0.2617 - accuracy: 0.9005 - val_loss: 0.2225 - val_accuracy: 0.9284\n",
            "Epoch 10/100\n",
            "36/36 - 0s - loss: 0.2579 - accuracy: 0.8980 - val_loss: 0.2147 - val_accuracy: 0.9284\n",
            "Epoch 11/100\n",
            "36/36 - 0s - loss: 0.2564 - accuracy: 0.9022 - val_loss: 0.2149 - val_accuracy: 0.9284\n",
            "Epoch 12/100\n",
            "36/36 - 0s - loss: 0.2518 - accuracy: 0.9033 - val_loss: 0.2123 - val_accuracy: 0.9284\n",
            "Epoch 13/100\n",
            "36/36 - 0s - loss: 0.2484 - accuracy: 0.9039 - val_loss: 0.2093 - val_accuracy: 0.9284\n",
            "Epoch 14/100\n",
            "36/36 - 0s - loss: 0.2470 - accuracy: 0.9036 - val_loss: 0.2071 - val_accuracy: 0.9306\n",
            "Epoch 15/100\n",
            "36/36 - 0s - loss: 0.2463 - accuracy: 0.9047 - val_loss: 0.2077 - val_accuracy: 0.9284\n",
            "Epoch 16/100\n",
            "36/36 - 0s - loss: 0.2413 - accuracy: 0.9056 - val_loss: 0.2089 - val_accuracy: 0.9284\n"
          ],
          "name": "stdout"
        },
        {
          "output_type": "execute_result",
          "data": {
            "text/plain": [
              "<tensorflow.python.keras.callbacks.History at 0x7f23d45e7b38>"
            ]
          },
          "metadata": {
            "tags": []
          },
          "execution_count": 47
        }
      ]
    },
    {
      "cell_type": "markdown",
      "metadata": {
        "id": "YkGEmDVi1KiR",
        "colab_type": "text"
      },
      "source": [
        "##Testing the data"
      ]
    },
    {
      "cell_type": "code",
      "metadata": {
        "id": "80KIZeUV0qpK",
        "colab_type": "code",
        "colab": {
          "base_uri": "https://localhost:8080/",
          "height": 52
        },
        "outputId": "763670ae-7da2-4ed0-c178-6d4e1ef3cf23"
      },
      "source": [
        "test_loss,test_accuracy = model.evaluate(test_inputs,test_targets)\n",
        "print(\"test_loss:  {0:.2f}.test_accuracy:  {1:.2f}.\".format(test_loss,test_accuracy*100.))"
      ],
      "execution_count": 48,
      "outputs": [
        {
          "output_type": "stream",
          "text": [
            "14/14 [==============================] - 0s 1ms/step - loss: 0.2456 - accuracy: 0.9219\n",
            "test_loss:  0.25.test_accuracy:  92.19.\n"
          ],
          "name": "stdout"
        }
      ]
    },
    {
      "cell_type": "code",
      "metadata": {
        "id": "KAOxLJRv1eYo",
        "colab_type": "code",
        "colab": {}
      },
      "source": [
        ""
      ],
      "execution_count": 0,
      "outputs": []
    }
  ]
}